{
 "cells": [
  {
   "cell_type": "markdown",
   "id": "653186bf",
   "metadata": {},
   "source": [
    "# Evaluation Script"
   ]
  },
  {
   "cell_type": "markdown",
   "id": "5480124b",
   "metadata": {},
   "source": [
    "This script is used for black-box and white-box evaluation of the trained models [substitute, base, adversarial training, Madry defense, superimposing and defensive distillation]. For black-box evaluation, the benchmark, the datasets generated with MI-FGSM ($\\epsilon=[4,8,16,32]$) and the dataset contaminated with random noise ($\\epsilon=8$) are used. For the white-box evaluation, MI-FGSM is applied to the target model itself."
   ]
  },
  {
   "cell_type": "markdown",
   "id": "4b02d4cf",
   "metadata": {
    "pycharm": {
     "name": "#%% md\n"
    }
   },
   "source": [
    "## 0 - Dependencies"
   ]
  },
  {
   "cell_type": "markdown",
   "id": "e1246f38",
   "metadata": {},
   "source": [
    "Import all necessary dependencies (Tensorflow, Keras, NumPy)."
   ]
  },
  {
   "cell_type": "code",
   "execution_count": 1,
   "id": "7bfbd8e0",
   "metadata": {
    "pycharm": {
     "name": "#%%\n"
    }
   },
   "outputs": [],
   "source": [
    "# Import NumPy\n",
    "import numpy as np\n",
    "\n",
    "# Tensorflow and Keras\n",
    "import tensorflow as tf\n",
    "import tensorflow.keras as keras\n",
    "\n",
    "# Import momentum attack from cleverhans to perform white-box attacks\n",
    "from attack_momentum import MomentumAttack\n",
    "\n",
    "# Hide warnings\n",
    "import warnings\n",
    "warnings.filterwarnings('ignore')"
   ]
  },
  {
   "cell_type": "markdown",
   "id": "a4c3c2bb",
   "metadata": {
    "pycharm": {
     "name": "#%% md\n"
    }
   },
   "source": [
    "## 1 - Load all Models"
   ]
  },
  {
   "cell_type": "markdown",
   "id": "891ab1c9",
   "metadata": {},
   "source": [
    "Load all the Tensorflow models to perform the evaluation."
   ]
  },
  {
   "cell_type": "code",
   "execution_count": null,
   "id": "7f4386a9",
   "metadata": {},
   "outputs": [
    {
     "name": "stderr",
     "output_type": "stream",
     "text": [
      "2022-07-22 13:55:53.766855: I tensorflow/core/platform/cpu_feature_guard.cc:151] This TensorFlow binary is optimized with oneAPI Deep Neural Network Library (oneDNN) to use the following CPU instructions in performance-critical operations:  AVX2 AVX512F FMA\n",
      "To enable them in other operations, rebuild TensorFlow with the appropriate compiler flags.\n",
      "2022-07-22 13:55:56.035988: I tensorflow/core/common_runtime/gpu/gpu_device.cc:1525] Created device /job:localhost/replica:0/task:0/device:GPU:0 with 13745 MB memory:  -> device: 0, name: Quadro RTX 6000, pci bus id: 0000:d8:00.0, compute capability: 7.5\n"
     ]
    }
   ],
   "source": [
    "m_subsitute = tf.keras.models.load_model(\"trained_models/substitute.h5\")\n",
    "m_target = tf.keras.models.load_model(\"trained_models/target.h5\")\n",
    "m_at = tf.keras.models.load_model(\"trained_models/defenses/adversarial_training/adversarial_training.h5\")\n",
    "m_at_sampling = tf.keras.models.load_model(\"trained_models/defenses/adversarial_training/adversarial_training_with_sampling.h5\")\n",
    "m_mad_e8 = tf.keras.models.load_model(\"trained_models/defenses/madry/madry_e8_n10.h5\")\n",
    "m_mad_e16 = tf.keras.models.load_model(\"trained_models/defenses/madry/madry_e16_n20.h5\")\n",
    "m_si_l0 = tf.keras.models.load_model(\"trained_models/defenses/seiler/seiler_lambda0.h5\")\n",
    "m_si_l10 = tf.keras.models.load_model(\"trained_models/defenses/seiler/seiler_lambda10.h5\")\n",
    "m_DD = keras.models.load_model(\"trained_models/defenses/defensive_distillation/defensive_distillation.h5\")"
   ]
  },
  {
   "cell_type": "code",
   "execution_count": 3,
   "id": "6926408e",
   "metadata": {},
   "outputs": [],
   "source": [
    "# more accessible structure\n",
    "models = [(\"Substitute\", m_subsitute), \n",
    "         (\"Target\", m_target),\n",
    "         (\"Adversarial Training\", m_at),\n",
    "         (\"Adversarial Training with sampling\", m_at_sampling),\n",
    "         (\"Madry e8\", m_mad_e8),\n",
    "         (\"Madry e16\", m_mad_e16),\n",
    "         (\"Superimposing l0\", m_si_l0),\n",
    "         (\"Superimposing l10\", m_si_l10),\n",
    "         (\"Defensive Distillation\", m_DD)]"
   ]
  },
  {
   "cell_type": "markdown",
   "id": "f38a9cd3",
   "metadata": {
    "pycharm": {
     "name": "#%% md\n"
    }
   },
   "source": [
    "## 2 - Load all Datasets"
   ]
  },
  {
   "cell_type": "markdown",
   "id": "9762132b",
   "metadata": {},
   "source": [
    "Load all datasets for the evaluation."
   ]
  },
  {
   "cell_type": "code",
   "execution_count": 4,
   "id": "26980385",
   "metadata": {
    "pycharm": {
     "name": "#%%\n"
    }
   },
   "outputs": [],
   "source": [
    "# TinyImageNet validation dataset\n",
    "validation_dataset = tf.data.experimental.load(\"datasets/tiny_imagenet/validation/\")\n",
    "\n",
    "# Clean evaluation dataset of 2500 examples correctly classified by the substitute\n",
    "clean_dataset = tf.data.experimental.load(\"datasets/evaluation_clean/\")\n",
    "\n",
    "# With random noise peturbed dataset\n",
    "noise_dataset = tf.data.experimental.load(\"datasets/evaluation_noise/\")\n",
    "\n",
    "# With MI-FGSM created adversarial pertubed dataset \n",
    "mi_fgsm_dataset_e4 = tf.data.experimental.load(\"datasets/adversarial_datasets/MI-FGSMAttack/e4/\")\n",
    "mi_fgsm_dataset_e8 = tf.data.experimental.load(\"datasets/adversarial_datasets/MI-FGSMAttack/e8/\")\n",
    "mi_fgsm_dataset_e16 = tf.data.experimental.load(\"datasets/adversarial_datasets/MI-FGSMAttack/e16/\")\n",
    "mi_fgsm_dataset_e32 = tf.data.experimental.load(\"datasets/adversarial_datasets/MI-FGSMAttack/e32/\")"
   ]
  },
  {
   "cell_type": "markdown",
   "id": "f5774e7c",
   "metadata": {
    "pycharm": {
     "name": "#%% md\n"
    }
   },
   "source": [
    "## 3 - Evaluation functions"
   ]
  },
  {
   "cell_type": "markdown",
   "id": "2f801de9",
   "metadata": {},
   "source": [
    "Aid functions for the evaluation."
   ]
  },
  {
   "cell_type": "code",
   "execution_count": 5,
   "id": "f35344d9",
   "metadata": {
    "pycharm": {
     "name": "#%%\n"
    }
   },
   "outputs": [],
   "source": [
    "# Evaluate a given list of tensorflow models(name, model) on a given tensorflow dataset(ds) and print the accuracy and \n",
    "# name for each of the models\n",
    "def evaluate(models, ds):\n",
    "    for name, model in models:\n",
    "        res = model.evaluate(ds, verbose=0)[1]*100\n",
    "        print(name, \" :\", \"{:0.1f}\".format(res), \"%\")"
   ]
  },
  {
   "cell_type": "code",
   "execution_count": 6,
   "id": "a47677da",
   "metadata": {},
   "outputs": [],
   "source": [
    "# Perform an MI-FGSM white-box attack, similar to the black-box attack, on the target model itself.\n",
    "# return the accuracy\n",
    "def whitebox_attack(model, clean_ds):\n",
    "    mi_fgsm = MomentumAttack()\n",
    "    adv_ds = mi_fgsm.attack(clean_dataset, model, eps=8.0, eps_iter=0.8, nb_iter=20, norm=np.inf, decay_factor=1.0)\n",
    "    adv_ds = adv_ds.batch(128)\n",
    "    res = model.evaluate(adv_ds, verbose=0)\n",
    "    res = res[1]*100\n",
    "    return \"{:0.1f}\".format(res)"
   ]
  },
  {
   "cell_type": "markdown",
   "id": "2c79a19a",
   "metadata": {},
   "source": [
    "## 4 - Black-box Evaluation"
   ]
  },
  {
   "cell_type": "markdown",
   "id": "d757ec95",
   "metadata": {},
   "source": [
    "Perform the black-box part of the evaluation:\n",
    "\n",
    "**Validation Dataset** (time consuming without GPU)"
   ]
  },
  {
   "cell_type": "code",
   "execution_count": 7,
   "id": "3b747ae2",
   "metadata": {},
   "outputs": [
    {
     "name": "stdout",
     "output_type": "stream",
     "text": [
      "Validation Accuracy\n",
      "---\n"
     ]
    },
    {
     "name": "stderr",
     "output_type": "stream",
     "text": [
      "2022-07-18 12:41:38.005979: I tensorflow/stream_executor/cuda/cuda_dnn.cc:368] Loaded cuDNN version 8200\n"
     ]
    },
    {
     "name": "stdout",
     "output_type": "stream",
     "text": [
      "Substitute  : 72.0 %\n",
      "Target  : 72.8 %\n",
      "Adversarial Training  : 77.2 %\n",
      "Adversarial Training with sampling  : 74.7 %\n",
      "Madry e8  : 59.6 %\n",
      "Madry e16  : 56.1 %\n",
      "Superimposing l0  : 72.8 %\n",
      "Superimposing l10  : 65.6 %\n",
      "Defensive Distillation  : 76.2 %\n"
     ]
    }
   ],
   "source": [
    "print(\"Validation Accuracy\")\n",
    "print(\"---\")\n",
    "evaluate(models, validation_dataset)"
   ]
  },
  {
   "cell_type": "markdown",
   "id": "1af92500",
   "metadata": {},
   "source": [
    "---\n",
    "**Clean Evaluation Dataset**"
   ]
  },
  {
   "cell_type": "code",
   "execution_count": 8,
   "id": "c91c3e3b",
   "metadata": {},
   "outputs": [
    {
     "name": "stdout",
     "output_type": "stream",
     "text": [
      "Clean Accuracy\n",
      "---\n",
      "Substitute  : 100.0 %\n",
      "Target  : 87.4 %\n",
      "Adversarial Training  : 92.4 %\n",
      "Adversarial Training with sampling  : 91.2 %\n",
      "Madry e8  : 73.7 %\n",
      "Madry e16  : 70.9 %\n",
      "Superimposing l0  : 89.4 %\n",
      "Superimposing l10  : 80.4 %\n",
      "Defensive Distillation  : 90.7 %\n"
     ]
    }
   ],
   "source": [
    "print(\"Clean Accuracy\")\n",
    "print(\"---\")\n",
    "evaluate(models, clean_dataset)"
   ]
  },
  {
   "cell_type": "markdown",
   "id": "e5e7dfb1",
   "metadata": {},
   "source": [
    "---\n",
    "**Noise Dataset**"
   ]
  },
  {
   "cell_type": "code",
   "execution_count": 9,
   "id": "3726a6cd",
   "metadata": {},
   "outputs": [
    {
     "name": "stdout",
     "output_type": "stream",
     "text": [
      "Noise Accuracy\n",
      "---\n",
      "Substitute  : 92.7 %\n",
      "Target  : 85.6 %\n",
      "Adversarial Training  : 79.4 %\n",
      "Adversarial Training with sampling  : 73.7 %\n",
      "Madry e8  : 73.7 %\n",
      "Madry e16  : 66.6 %\n",
      "Superimposing l0  : 86.6 %\n",
      "Superimposing l10  : 79.6 %\n",
      "Defensive Distillation  : 88.9 %\n"
     ]
    }
   ],
   "source": [
    "print(\"Noise Accuracy\")\n",
    "print(\"---\")\n",
    "evaluate(models, noise_dataset)"
   ]
  },
  {
   "cell_type": "markdown",
   "id": "379badc4",
   "metadata": {},
   "source": [
    "---\n",
    "**MI-FGSM Datasets**"
   ]
  },
  {
   "cell_type": "code",
   "execution_count": 10,
   "id": "5bb66115",
   "metadata": {},
   "outputs": [
    {
     "name": "stdout",
     "output_type": "stream",
     "text": [
      "MI-FGSM black-box attack with epsilon=4 Accuracy\n",
      "---\n",
      "Substitute  : 4.6 %\n",
      "Target  : 20.8 %\n",
      "Adversarial Training  : 35.8 %\n",
      "Adversarial Training with sampling  : 66.6 %\n",
      "Madry e8  : 71.3 %\n",
      "Madry e16  : 68.1 %\n",
      "Superimposing l0  : 15.4 %\n",
      "Superimposing l10  : 57.1 %\n",
      "Defensive Distillation  : 19.7 %\n"
     ]
    }
   ],
   "source": [
    "print(\"MI-FGSM black-box attack with epsilon=4 Accuracy\")\n",
    "print(\"---\")\n",
    "evaluate(models, mi_fgsm_dataset_e4)"
   ]
  },
  {
   "cell_type": "code",
   "execution_count": 11,
   "id": "078d024b",
   "metadata": {},
   "outputs": [
    {
     "name": "stdout",
     "output_type": "stream",
     "text": [
      "MI-FGSM black-box attack with epsilon=8 Accuracy\n",
      "---\n",
      "Substitute  : 1.1 %\n",
      "Target  : 6.8 %\n",
      "Adversarial Training  : 23.0 %\n",
      "Adversarial Training with sampling  : 65.2 %\n",
      "Madry e8  : 69.2 %\n",
      "Madry e16  : 66.1 %\n",
      "Superimposing l0  : 4.5 %\n",
      "Superimposing l10  : 39.9 %\n",
      "Defensive Distillation  : 6.0 %\n"
     ]
    }
   ],
   "source": [
    "print(\"MI-FGSM black-box attack with epsilon=8 Accuracy\")\n",
    "print(\"---\")\n",
    "evaluate(models, mi_fgsm_dataset_e8)"
   ]
  },
  {
   "cell_type": "code",
   "execution_count": 12,
   "id": "30a4327d",
   "metadata": {},
   "outputs": [
    {
     "name": "stdout",
     "output_type": "stream",
     "text": [
      "MI-FGSM black-box attack with epsilon=16 Accuracy\n",
      "---\n",
      "Substitute  : 0.1 %\n",
      "Target  : 2.9 %\n",
      "Adversarial Training  : 50.4 %\n",
      "Adversarial Training with sampling  : 59.7 %\n",
      "Madry e8  : 63.9 %\n",
      "Madry e16  : 58.7 %\n",
      "Superimposing l0  : 1.8 %\n",
      "Superimposing l10  : 22.0 %\n",
      "Defensive Distillation  : 2.6 %\n"
     ]
    }
   ],
   "source": [
    "print(\"MI-FGSM black-box attack with epsilon=16 Accuracy\")\n",
    "print(\"---\")\n",
    "evaluate(models, mi_fgsm_dataset_e16)"
   ]
  },
  {
   "cell_type": "code",
   "execution_count": 13,
   "id": "263fdf8e",
   "metadata": {},
   "outputs": [
    {
     "name": "stdout",
     "output_type": "stream",
     "text": [
      "MI-FGSM black-box attack with epsilon=32 Accuracy\n",
      "---\n",
      "Substitute  : 0.0 %\n",
      "Target  : 1.6 %\n",
      "Adversarial Training  : 50.2 %\n",
      "Adversarial Training with sampling  : 38.9 %\n",
      "Madry e8  : 50.7 %\n",
      "Madry e16  : 46.4 %\n",
      "Superimposing l0  : 1.1 %\n",
      "Superimposing l10  : 11.1 %\n",
      "Defensive Distillation  : 1.5 %\n"
     ]
    }
   ],
   "source": [
    "print(\"MI-FGSM black-box attack with epsilon=32 Accuracy\")\n",
    "print(\"---\")\n",
    "evaluate(models, mi_fgsm_dataset_e32)"
   ]
  },
  {
   "cell_type": "markdown",
   "id": "798a59ce",
   "metadata": {},
   "source": [
    "## 4 - White-box Evaluation"
   ]
  },
  {
   "cell_type": "markdown",
   "id": "5ebfaa6d",
   "metadata": {},
   "source": [
    "Perform the white-box part of the evaluation (time consuming without GPU):"
   ]
  },
  {
   "cell_type": "code",
   "execution_count": 14,
   "id": "e89e74bd",
   "metadata": {},
   "outputs": [
    {
     "name": "stdout",
     "output_type": "stream",
     "text": [
      "MI-FGSM white-box attack with epsilon=8 Accuracy\n",
      "---\n",
      "Substitute  :  0.2 %\n",
      "Target  :  7.1 %\n",
      "Adversarial Training  :  4.9 %\n",
      "Adversarial Training with sampling  :  6.9 %\n",
      "Madry e8  :  26.9 %\n",
      "Madry e16  :  30.2 %\n",
      "Superimposing l0  :  6.0 %\n",
      "Superimposing l10  :  8.8 %\n",
      "Defensive Distillation  :  87.9 %\n"
     ]
    }
   ],
   "source": [
    "print(\"MI-FGSM white-box attack with epsilon=8 Accuracy\")\n",
    "print(\"---\")\n",
    "for name, model in models:\n",
    "    print(name, \" : \", whitebox_attack(model, clean_dataset), \"%\")"
   ]
  },
  {
   "cell_type": "markdown",
   "id": "29cd32e5",
   "metadata": {},
   "source": [
    "---\n",
    "---"
   ]
  },
  {
   "cell_type": "markdown",
   "id": "5221e9fd",
   "metadata": {},
   "source": [
    "Succeeding step: Visualization of some results\n",
    "**-> Results.ipynb**\n",
    "\n",
    "Succeeding step: Analysis of results\n",
    "**-> Thesis**"
   ]
  }
 ],
 "metadata": {
  "kernelspec": {
   "display_name": "Python 3 (ipykernel)",
   "language": "python",
   "name": "python3"
  },
  "language_info": {
   "codemirror_mode": {
    "name": "ipython",
    "version": 3
   },
   "file_extension": ".py",
   "mimetype": "text/x-python",
   "name": "python",
   "nbconvert_exporter": "python",
   "pygments_lexer": "ipython3",
   "version": "3.9.6"
  }
 },
 "nbformat": 4,
 "nbformat_minor": 5
}
